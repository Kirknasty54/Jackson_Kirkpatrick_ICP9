{
  "nbformat": 4,
  "nbformat_minor": 0,
  "metadata": {
    "colab": {
      "provenance": [],
      "mount_file_id": "1dXe6zhwD73tZSVt1ok7Q_be75T0BvhRl",
      "authorship_tag": "ABX9TyN3g8Trq8p2+8kuP4jcSSts",
      "include_colab_link": true
    },
    "kernelspec": {
      "name": "python3",
      "display_name": "Python 3"
    },
    "language_info": {
      "name": "python"
    }
  },
  "cells": [
    {
      "cell_type": "markdown",
      "metadata": {
        "id": "view-in-github",
        "colab_type": "text"
      },
      "source": [
        "<a href=\"https://colab.research.google.com/github/Kirknasty54/Jackson_Kirkpatrick_ICP9/blob/main/Jackson_Kirkpatrick_ICP_9.ipynb\" target=\"_parent\"><img src=\"https://colab.research.google.com/assets/colab-badge.svg\" alt=\"Open In Colab\"/></a>"
      ]
    },
    {
      "cell_type": "code",
      "execution_count": 1,
      "metadata": {
        "id": "E-GjkUA1m_5i",
        "colab": {
          "base_uri": "https://localhost:8080/"
        },
        "outputId": "f8661d82-48a7-4cc4-ddb3-6f2d70591e36"
      },
      "outputs": [
        {
          "output_type": "stream",
          "name": "stdout",
          "text": [
            "Requirement already satisfied: scikeras in /usr/local/lib/python3.10/dist-packages (0.12.0)\n",
            "Requirement already satisfied: packaging>=0.21 in /usr/local/lib/python3.10/dist-packages (from scikeras) (23.2)\n",
            "Requirement already satisfied: scikit-learn>=1.0.0 in /usr/local/lib/python3.10/dist-packages (from scikeras) (1.2.2)\n",
            "Requirement already satisfied: numpy>=1.17.3 in /usr/local/lib/python3.10/dist-packages (from scikit-learn>=1.0.0->scikeras) (1.23.5)\n",
            "Requirement already satisfied: scipy>=1.3.2 in /usr/local/lib/python3.10/dist-packages (from scikit-learn>=1.0.0->scikeras) (1.11.3)\n",
            "Requirement already satisfied: joblib>=1.1.1 in /usr/local/lib/python3.10/dist-packages (from scikit-learn>=1.0.0->scikeras) (1.3.2)\n",
            "Requirement already satisfied: threadpoolctl>=2.0.0 in /usr/local/lib/python3.10/dist-packages (from scikit-learn>=1.0.0->scikeras) (3.2.0)\n",
            "Drive already mounted at /content/drive; to attempt to forcibly remount, call drive.mount(\"/content/drive\", force_remount=True).\n"
          ]
        }
      ],
      "source": [
        "!pip install scikeras\n",
        "import pandas as pd\n",
        "from keras.preprocessing.text import Tokenizer\n",
        "from keras.preprocessing.sequence import pad_sequences\n",
        "from keras.models import Sequential, load_model\n",
        "from keras.layers import Dense, Embedding, LSTM, SpatialDropout1D\n",
        "from matplotlib import pyplot\n",
        "from sklearn.model_selection import train_test_split\n",
        "from keras.utils import to_categorical\n",
        "import re\n",
        "from sklearn.preprocessing import LabelEncoder\n",
        "from google.colab import drive\n",
        "drive.mount('/content/drive')\n",
        "data = pd.read_csv('/content/drive/MyDrive/Sentiment.csv')\n",
        "import joblib\n",
        "from scikeras.wrappers import KerasClassifier\n",
        "from sklearn.model_selection import GridSearchCV\n",
        "from sklearn.metrics import make_scorer, accuracy_score\n",
        "from sklearn.pipeline import Pipeline"
      ]
    },
    {
      "cell_type": "code",
      "source": [
        "# Keeping only the neccessary columns\n",
        "data = data[['text','sentiment']]\n",
        "\n",
        "data['text'] = data['text'].apply(lambda x: x.lower())\n",
        "data['text'] = data['text'].apply((lambda x: re.sub('[^a-zA-z0-9\\s]', '', x)))\n",
        "\n",
        "for idx, row in data.iterrows():\n",
        "    row[0] = row[0].replace('rt', ' ')\n",
        "\n",
        "max_fatures = 2000\n",
        "tokenizer = Tokenizer(num_words=max_fatures, split=' ')\n",
        "tokenizer.fit_on_texts(data['text'].values)\n",
        "X = tokenizer.texts_to_sequences(data['text'].values)\n",
        "\n",
        "X = pad_sequences(X)\n",
        "\n",
        "embed_dim = 128\n",
        "lstm_out = 196\n",
        "def createmodel(embed_dim, lstm_out):\n",
        "    model = Sequential()\n",
        "    model.add(Embedding(max_fatures, embed_dim,input_length = X.shape[1]))\n",
        "    model.add(LSTM(lstm_out, dropout=0.2, recurrent_dropout=0.2))\n",
        "    model.add(Dense(3,activation='softmax'))\n",
        "    model.compile(loss = 'categorical_crossentropy', optimizer='adam',metrics = ['accuracy'])\n",
        "    return model\n",
        "print(createmodel(embed_dim, lstm_out).summary())\n",
        "\n",
        "labelencoder = LabelEncoder()\n",
        "integer_encoded = labelencoder.fit_transform(data['sentiment'])\n",
        "y = to_categorical(integer_encoded)\n",
        "X_train, X_test, Y_train, Y_test = train_test_split(X,y, test_size = 0.33, random_state = 42)\n",
        "\n",
        "batch_size = 32\n",
        "model = createmodel(embed_dim, lstm_out)\n",
        "model.fit(X_train, Y_train, epochs = 1, batch_size=batch_size, verbose = 2)\n",
        "score,acc = model.evaluate(X_test,Y_test,verbose=2,batch_size=batch_size)\n",
        "print(score)\n",
        "print(acc)\n",
        "print(model.metrics_names)"
      ],
      "metadata": {
        "colab": {
          "base_uri": "https://localhost:8080/"
        },
        "id": "5F2yQEaopiWV",
        "outputId": "f9075686-c944-4728-a2e3-9dc534b0d55a"
      },
      "execution_count": 2,
      "outputs": [
        {
          "output_type": "stream",
          "name": "stdout",
          "text": [
            "Model: \"sequential\"\n",
            "_________________________________________________________________\n",
            " Layer (type)                Output Shape              Param #   \n",
            "=================================================================\n",
            " embedding (Embedding)       (None, 28, 128)           256000    \n",
            "                                                                 \n",
            " lstm (LSTM)                 (None, 196)               254800    \n",
            "                                                                 \n",
            " dense (Dense)               (None, 3)                 591       \n",
            "                                                                 \n",
            "=================================================================\n",
            "Total params: 511391 (1.95 MB)\n",
            "Trainable params: 511391 (1.95 MB)\n",
            "Non-trainable params: 0 (0.00 Byte)\n",
            "_________________________________________________________________\n",
            "None\n",
            "291/291 - 74s - loss: 0.8250 - accuracy: 0.6460 - 74s/epoch - 254ms/step\n",
            "144/144 - 4s - loss: 0.7546 - accuracy: 0.6763 - 4s/epoch - 25ms/step\n",
            "0.7546238899230957\n",
            "0.6762778759002686\n",
            "['loss', 'accuracy']\n"
          ]
        }
      ]
    },
    {
      "cell_type": "code",
      "source": [
        "model.save(\"sentiment_analysis_model.h5\")\n",
        "loaded_model = load_model(\"sentiment_analysis_model.h5\")\n",
        "\n",
        "#create a new text data for predictions\n",
        "new_tweet = [\"A lot of good things are happening. We are respected again throughout the world, and that's a great thing. @realDonaldTrump\"]\n",
        "\n",
        "#preprocess our new text data the same way we did for our training data\n",
        "new_tweet = [x.lower() for x in new_tweet]\n",
        "new_tweet = [re.sub('[^a-zA-z0-9\\s]', '', x) for x in new_tweet]\n",
        "\n",
        "new_tweet_sequences = tokenizer.texts_to_sequences(new_tweet)\n",
        "new_tweet_sequences = pad_sequences(new_tweet_sequences, maxlen=X.shape[1])\n",
        "\n",
        "predictions = loaded_model.predict(new_tweet_sequences)\n",
        "predicted_sentiments = labelencoder.inverse_transform(predictions.argmax(axis=1))\n",
        "print(predicted_sentiments)"
      ],
      "metadata": {
        "colab": {
          "base_uri": "https://localhost:8080/"
        },
        "id": "JIHj-B6_ql5Y",
        "outputId": "e28d8519-54e1-4684-a395-b31c637470c7"
      },
      "execution_count": 3,
      "outputs": [
        {
          "output_type": "stream",
          "name": "stderr",
          "text": [
            "/usr/local/lib/python3.10/dist-packages/keras/src/engine/training.py:3079: UserWarning: You are saving your model as an HDF5 file via `model.save()`. This file format is considered legacy. We recommend using instead the native Keras format, e.g. `model.save('my_model.keras')`.\n",
            "  saving_api.save_model(\n"
          ]
        },
        {
          "output_type": "stream",
          "name": "stdout",
          "text": [
            "1/1 [==============================] - 1s 855ms/step\n",
            "['Positive']\n"
          ]
        }
      ]
    },
    {
      "cell_type": "code",
      "source": [
        "'''# Load the Iris dataset\n",
        "irisd = load_iris()\n",
        "X = irisd.data\n",
        "y = irisd.target\n",
        "\n",
        "# Split the data into training and test sets\n",
        "X_train, X_test, y_train, y_test = train_test_split(X, y, test_size=0.2, random_state=42)\n",
        "\n",
        "# Define a function to create the Keras model\n",
        "def create_model(units=10, activation='relu'):\n",
        "   model = Sequential()\n",
        "   model.add(Dense(units=units, activation=activation, input_dim=4))\n",
        "   model.add(Dense(units=3, activation='softmax'))\n",
        "   model.compile(optimizer='adam', loss='sparse_categorical_crossentropy', metrics=['accuracy'])\n",
        "   return model\n",
        "\n",
        "# Create the KerasClassifier object\n",
        "model = KerasClassifier(build_fn=create_model, activation='relu', units=5)\n",
        "\n",
        "# Define the hyperparameter grid to search over\n",
        "param_grid = {\n",
        "   'units': [5, 10, 15],\n",
        "   'activation': ['relu', 'sigmoid']\n",
        "}\n",
        "\n",
        "# Create the GridSearchCV object\n",
        "grid = GridSearchCV(estimator=model, param_grid=param_grid, cv=3)\n",
        "\n",
        "# Fit the GridSearchCV object to the training data\n",
        "grid_result = grid.fit(X_train, y_train)\n",
        "\n",
        "# Print the best parameters and score\n",
        "print(\"Best Parameters: \", grid_result.best_params_)\n",
        "print(\"Best Score: \", grid_result.best_score_)\n",
        "\n",
        "# Evaluate the best model on the test data\n",
        "best_model = grid_result.best_estimator_\n",
        "test_accuracy = best_model.score(X_test, y_test)\n",
        "print(\"Test Accuracy: \", test_accuracy)'''\n",
        "model = KerasClassifier(build_fn=createmodel, epochs=1, batch_size=16, lstm_out=64, embed_dim=64)\n",
        "\n",
        "# Define the hyperparameter grid for GridSearchCV\n",
        "param_grid = {\n",
        "    'embed_dim': [64, 128],\n",
        "    'lstm_out': [64, 128],\n",
        "    'batch_size': [16, 32]\n",
        "}\n",
        "\n",
        "# Create GridSearchCV\n",
        "grid = GridSearchCV(estimator=model, param_grid=param_grid, cv=3, error_score='raise')\n",
        "\n",
        "# Fit GridSearchCV to the data\n",
        "grid_result = grid.fit(X, y)\n",
        "\n",
        "# Print the best parameters and the corresponding best cross-validated score\n",
        "print(\"Best Parameters: \", grid_result.best_params_)\n",
        "print(\"Best Score: \", grid_result.best_score_)\n",
        "\n",
        "# Create a new model with the best hyperparameters and evaluate it on the test data\n",
        "best_params = grid_result.best_params_\n",
        "best_model = createmodel(embed_dim=best_params['embed_dim'], lstm_out=best_params['lstm_out'])\n",
        "best_model.fit(X, y, epochs=1, batch_size=batch_size, verbose=2)\n",
        "score, acc = best_model.evaluate(X_test, Y_test, verbose=2, batch_size=batch_size)\n",
        "print(\"Test Score: \", score)\n",
        "print(\"Test Accuracy: \", acc)"
      ],
      "metadata": {
        "colab": {
          "base_uri": "https://localhost:8080/"
        },
        "id": "bVdu-OYUTH88",
        "outputId": "218e352f-b38b-4425-8b9e-20ade7e521bf"
      },
      "execution_count": 5,
      "outputs": [
        {
          "output_type": "stream",
          "name": "stderr",
          "text": [
            "/usr/local/lib/python3.10/dist-packages/scikeras/wrappers.py:915: UserWarning: ``build_fn`` will be renamed to ``model`` in a future release, at which point use of ``build_fn`` will raise an Error instead.\n",
            "  X, y = self._initialize(X, y)\n"
          ]
        },
        {
          "output_type": "stream",
          "name": "stdout",
          "text": [
            "578/578 [==============================] - 39s 57ms/step - loss: 0.7806 - accuracy: 0.6650\n",
            "289/289 [==============================] - 2s 7ms/step\n"
          ]
        },
        {
          "output_type": "stream",
          "name": "stderr",
          "text": [
            "/usr/local/lib/python3.10/dist-packages/scikeras/wrappers.py:915: UserWarning: ``build_fn`` will be renamed to ``model`` in a future release, at which point use of ``build_fn`` will raise an Error instead.\n",
            "  X, y = self._initialize(X, y)\n"
          ]
        },
        {
          "output_type": "stream",
          "name": "stdout",
          "text": [
            "578/578 [==============================] - 41s 61ms/step - loss: 0.8038 - accuracy: 0.6548\n",
            "289/289 [==============================] - 3s 9ms/step\n"
          ]
        },
        {
          "output_type": "stream",
          "name": "stderr",
          "text": [
            "/usr/local/lib/python3.10/dist-packages/scikeras/wrappers.py:915: UserWarning: ``build_fn`` will be renamed to ``model`` in a future release, at which point use of ``build_fn`` will raise an Error instead.\n",
            "  X, y = self._initialize(X, y)\n"
          ]
        },
        {
          "output_type": "stream",
          "name": "stdout",
          "text": [
            "578/578 [==============================] - 27s 43ms/step - loss: 0.8572 - accuracy: 0.6248\n",
            "289/289 [==============================] - 4s 13ms/step\n"
          ]
        },
        {
          "output_type": "stream",
          "name": "stderr",
          "text": [
            "/usr/local/lib/python3.10/dist-packages/scikeras/wrappers.py:915: UserWarning: ``build_fn`` will be renamed to ``model`` in a future release, at which point use of ``build_fn`` will raise an Error instead.\n",
            "  X, y = self._initialize(X, y)\n"
          ]
        },
        {
          "output_type": "stream",
          "name": "stdout",
          "text": [
            "578/578 [==============================] - 56s 90ms/step - loss: 0.7848 - accuracy: 0.6601\n",
            "289/289 [==============================] - 3s 10ms/step\n"
          ]
        },
        {
          "output_type": "stream",
          "name": "stderr",
          "text": [
            "/usr/local/lib/python3.10/dist-packages/scikeras/wrappers.py:915: UserWarning: ``build_fn`` will be renamed to ``model`` in a future release, at which point use of ``build_fn`` will raise an Error instead.\n",
            "  X, y = self._initialize(X, y)\n"
          ]
        },
        {
          "output_type": "stream",
          "name": "stdout",
          "text": [
            "578/578 [==============================] - 56s 89ms/step - loss: 0.8070 - accuracy: 0.6538\n",
            "289/289 [==============================] - 3s 10ms/step\n"
          ]
        },
        {
          "output_type": "stream",
          "name": "stderr",
          "text": [
            "/usr/local/lib/python3.10/dist-packages/scikeras/wrappers.py:915: UserWarning: ``build_fn`` will be renamed to ``model`` in a future release, at which point use of ``build_fn`` will raise an Error instead.\n",
            "  X, y = self._initialize(X, y)\n"
          ]
        },
        {
          "output_type": "stream",
          "name": "stdout",
          "text": [
            "578/578 [==============================] - 49s 79ms/step - loss: 0.8574 - accuracy: 0.6246\n",
            "289/289 [==============================] - 5s 17ms/step\n"
          ]
        },
        {
          "output_type": "stream",
          "name": "stderr",
          "text": [
            "/usr/local/lib/python3.10/dist-packages/scikeras/wrappers.py:915: UserWarning: ``build_fn`` will be renamed to ``model`` in a future release, at which point use of ``build_fn`` will raise an Error instead.\n",
            "  X, y = self._initialize(X, y)\n"
          ]
        },
        {
          "output_type": "stream",
          "name": "stdout",
          "text": [
            "578/578 [==============================] - 43s 68ms/step - loss: 0.7671 - accuracy: 0.6680\n",
            "289/289 [==============================] - 3s 8ms/step\n"
          ]
        },
        {
          "output_type": "stream",
          "name": "stderr",
          "text": [
            "/usr/local/lib/python3.10/dist-packages/scikeras/wrappers.py:915: UserWarning: ``build_fn`` will be renamed to ``model`` in a future release, at which point use of ``build_fn`` will raise an Error instead.\n",
            "  X, y = self._initialize(X, y)\n"
          ]
        },
        {
          "output_type": "stream",
          "name": "stdout",
          "text": [
            "578/578 [==============================] - 43s 67ms/step - loss: 0.7920 - accuracy: 0.6609\n",
            "289/289 [==============================] - 3s 8ms/step\n"
          ]
        },
        {
          "output_type": "stream",
          "name": "stderr",
          "text": [
            "/usr/local/lib/python3.10/dist-packages/scikeras/wrappers.py:915: UserWarning: ``build_fn`` will be renamed to ``model`` in a future release, at which point use of ``build_fn`` will raise an Error instead.\n",
            "  X, y = self._initialize(X, y)\n"
          ]
        },
        {
          "output_type": "stream",
          "name": "stdout",
          "text": [
            "578/578 [==============================] - 36s 56ms/step - loss: 0.8497 - accuracy: 0.6277\n",
            "289/289 [==============================] - 4s 11ms/step\n"
          ]
        },
        {
          "output_type": "stream",
          "name": "stderr",
          "text": [
            "/usr/local/lib/python3.10/dist-packages/scikeras/wrappers.py:915: UserWarning: ``build_fn`` will be renamed to ``model`` in a future release, at which point use of ``build_fn`` will raise an Error instead.\n",
            "  X, y = self._initialize(X, y)\n"
          ]
        },
        {
          "output_type": "stream",
          "name": "stdout",
          "text": [
            "578/578 [==============================] - 63s 101ms/step - loss: 0.7779 - accuracy: 0.6659\n",
            "289/289 [==============================] - 4s 12ms/step\n"
          ]
        },
        {
          "output_type": "stream",
          "name": "stderr",
          "text": [
            "/usr/local/lib/python3.10/dist-packages/scikeras/wrappers.py:915: UserWarning: ``build_fn`` will be renamed to ``model`` in a future release, at which point use of ``build_fn`` will raise an Error instead.\n",
            "  X, y = self._initialize(X, y)\n"
          ]
        },
        {
          "output_type": "stream",
          "name": "stdout",
          "text": [
            "578/578 [==============================] - 62s 98ms/step - loss: 0.7991 - accuracy: 0.6588\n",
            "289/289 [==============================] - 4s 14ms/step\n"
          ]
        },
        {
          "output_type": "stream",
          "name": "stderr",
          "text": [
            "/usr/local/lib/python3.10/dist-packages/scikeras/wrappers.py:915: UserWarning: ``build_fn`` will be renamed to ``model`` in a future release, at which point use of ``build_fn`` will raise an Error instead.\n",
            "  X, y = self._initialize(X, y)\n"
          ]
        },
        {
          "output_type": "stream",
          "name": "stdout",
          "text": [
            "578/578 [==============================] - 56s 91ms/step - loss: 0.8538 - accuracy: 0.6275\n",
            "289/289 [==============================] - 4s 13ms/step\n"
          ]
        },
        {
          "output_type": "stream",
          "name": "stderr",
          "text": [
            "/usr/local/lib/python3.10/dist-packages/scikeras/wrappers.py:915: UserWarning: ``build_fn`` will be renamed to ``model`` in a future release, at which point use of ``build_fn`` will raise an Error instead.\n",
            "  X, y = self._initialize(X, y)\n"
          ]
        },
        {
          "output_type": "stream",
          "name": "stdout",
          "text": [
            "289/289 [==============================] - 25s 66ms/step - loss: 0.8021 - accuracy: 0.6524\n",
            "145/145 [==============================] - 2s 10ms/step\n"
          ]
        },
        {
          "output_type": "stream",
          "name": "stderr",
          "text": [
            "/usr/local/lib/python3.10/dist-packages/scikeras/wrappers.py:915: UserWarning: ``build_fn`` will be renamed to ``model`` in a future release, at which point use of ``build_fn`` will raise an Error instead.\n",
            "  X, y = self._initialize(X, y)\n"
          ]
        },
        {
          "output_type": "stream",
          "name": "stdout",
          "text": [
            "289/289 [==============================] - 24s 64ms/step - loss: 0.8197 - accuracy: 0.6493\n",
            "145/145 [==============================] - 2s 8ms/step\n"
          ]
        },
        {
          "output_type": "stream",
          "name": "stderr",
          "text": [
            "/usr/local/lib/python3.10/dist-packages/scikeras/wrappers.py:915: UserWarning: ``build_fn`` will be renamed to ``model`` in a future release, at which point use of ``build_fn`` will raise an Error instead.\n",
            "  X, y = self._initialize(X, y)\n"
          ]
        },
        {
          "output_type": "stream",
          "name": "stdout",
          "text": [
            "289/289 [==============================] - 16s 47ms/step - loss: 0.8716 - accuracy: 0.6135\n",
            "145/145 [==============================] - 1s 8ms/step\n"
          ]
        },
        {
          "output_type": "stream",
          "name": "stderr",
          "text": [
            "/usr/local/lib/python3.10/dist-packages/scikeras/wrappers.py:915: UserWarning: ``build_fn`` will be renamed to ``model`` in a future release, at which point use of ``build_fn`` will raise an Error instead.\n",
            "  X, y = self._initialize(X, y)\n"
          ]
        },
        {
          "output_type": "stream",
          "name": "stdout",
          "text": [
            "289/289 [==============================] - 38s 108ms/step - loss: 0.7989 - accuracy: 0.6534\n",
            "145/145 [==============================] - 3s 15ms/step\n"
          ]
        },
        {
          "output_type": "stream",
          "name": "stderr",
          "text": [
            "/usr/local/lib/python3.10/dist-packages/scikeras/wrappers.py:915: UserWarning: ``build_fn`` will be renamed to ``model`` in a future release, at which point use of ``build_fn`` will raise an Error instead.\n",
            "  X, y = self._initialize(X, y)\n"
          ]
        },
        {
          "output_type": "stream",
          "name": "stdout",
          "text": [
            "289/289 [==============================] - 34s 102ms/step - loss: 0.8230 - accuracy: 0.6477\n",
            "145/145 [==============================] - 2s 13ms/step\n"
          ]
        },
        {
          "output_type": "stream",
          "name": "stderr",
          "text": [
            "/usr/local/lib/python3.10/dist-packages/scikeras/wrappers.py:915: UserWarning: ``build_fn`` will be renamed to ``model`` in a future release, at which point use of ``build_fn`` will raise an Error instead.\n",
            "  X, y = self._initialize(X, y)\n"
          ]
        },
        {
          "output_type": "stream",
          "name": "stdout",
          "text": [
            "289/289 [==============================] - 30s 95ms/step - loss: 0.8715 - accuracy: 0.6147\n",
            "145/145 [==============================] - 3s 17ms/step\n"
          ]
        },
        {
          "output_type": "stream",
          "name": "stderr",
          "text": [
            "/usr/local/lib/python3.10/dist-packages/scikeras/wrappers.py:915: UserWarning: ``build_fn`` will be renamed to ``model`` in a future release, at which point use of ``build_fn`` will raise an Error instead.\n",
            "  X, y = self._initialize(X, y)\n"
          ]
        },
        {
          "output_type": "stream",
          "name": "stdout",
          "text": [
            "289/289 [==============================] - 29s 80ms/step - loss: 0.7865 - accuracy: 0.6556\n",
            "145/145 [==============================] - 2s 12ms/step\n"
          ]
        },
        {
          "output_type": "stream",
          "name": "stderr",
          "text": [
            "/usr/local/lib/python3.10/dist-packages/scikeras/wrappers.py:915: UserWarning: ``build_fn`` will be renamed to ``model`` in a future release, at which point use of ``build_fn`` will raise an Error instead.\n",
            "  X, y = self._initialize(X, y)\n"
          ]
        },
        {
          "output_type": "stream",
          "name": "stdout",
          "text": [
            "289/289 [==============================] - 29s 84ms/step - loss: 0.8144 - accuracy: 0.6511\n",
            "145/145 [==============================] - 3s 20ms/step\n"
          ]
        },
        {
          "output_type": "stream",
          "name": "stderr",
          "text": [
            "/usr/local/lib/python3.10/dist-packages/scikeras/wrappers.py:915: UserWarning: ``build_fn`` will be renamed to ``model`` in a future release, at which point use of ``build_fn`` will raise an Error instead.\n",
            "  X, y = self._initialize(X, y)\n"
          ]
        },
        {
          "output_type": "stream",
          "name": "stdout",
          "text": [
            "289/289 [==============================] - 21s 61ms/step - loss: 0.8710 - accuracy: 0.6199\n",
            "145/145 [==============================] - 2s 11ms/step\n"
          ]
        },
        {
          "output_type": "stream",
          "name": "stderr",
          "text": [
            "/usr/local/lib/python3.10/dist-packages/scikeras/wrappers.py:915: UserWarning: ``build_fn`` will be renamed to ``model`` in a future release, at which point use of ``build_fn`` will raise an Error instead.\n",
            "  X, y = self._initialize(X, y)\n"
          ]
        },
        {
          "output_type": "stream",
          "name": "stdout",
          "text": [
            "289/289 [==============================] - 49s 142ms/step - loss: 0.7929 - accuracy: 0.6605\n",
            "145/145 [==============================] - 3s 17ms/step\n"
          ]
        },
        {
          "output_type": "stream",
          "name": "stderr",
          "text": [
            "/usr/local/lib/python3.10/dist-packages/scikeras/wrappers.py:915: UserWarning: ``build_fn`` will be renamed to ``model`` in a future release, at which point use of ``build_fn`` will raise an Error instead.\n",
            "  X, y = self._initialize(X, y)\n"
          ]
        },
        {
          "output_type": "stream",
          "name": "stdout",
          "text": [
            "289/289 [==============================] - 41s 124ms/step - loss: 0.8036 - accuracy: 0.6572\n",
            "145/145 [==============================] - 3s 16ms/step\n"
          ]
        },
        {
          "output_type": "stream",
          "name": "stderr",
          "text": [
            "/usr/local/lib/python3.10/dist-packages/scikeras/wrappers.py:915: UserWarning: ``build_fn`` will be renamed to ``model`` in a future release, at which point use of ``build_fn`` will raise an Error instead.\n",
            "  X, y = self._initialize(X, y)\n"
          ]
        },
        {
          "output_type": "stream",
          "name": "stdout",
          "text": [
            "289/289 [==============================] - 32s 101ms/step - loss: 0.8657 - accuracy: 0.6210\n",
            "145/145 [==============================] - 4s 23ms/step\n"
          ]
        },
        {
          "output_type": "stream",
          "name": "stderr",
          "text": [
            "/usr/local/lib/python3.10/dist-packages/scikeras/wrappers.py:915: UserWarning: ``build_fn`` will be renamed to ``model`` in a future release, at which point use of ``build_fn`` will raise an Error instead.\n",
            "  X, y = self._initialize(X, y)\n"
          ]
        },
        {
          "output_type": "stream",
          "name": "stdout",
          "text": [
            "867/867 [==============================] - 64s 69ms/step - loss: 0.7853 - accuracy: 0.6625\n",
            "Best Parameters:  {'batch_size': 16, 'embed_dim': 128, 'lstm_out': 64}\n",
            "Best Score:  0.6592190899721343\n",
            "434/434 - 40s - loss: 0.7965 - accuracy: 0.6594 - 40s/epoch - 92ms/step\n",
            "144/144 - 3s - loss: 0.6482 - accuracy: 0.7204 - 3s/epoch - 22ms/step\n",
            "Test Score:  0.6481953859329224\n",
            "Test Accuracy:  0.72040194272995\n"
          ]
        }
      ]
    }
  ]
}